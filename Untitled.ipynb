{
 "cells": [
  {
   "cell_type": "code",
   "execution_count": null,
   "id": "a3d92dea-1fb8-4e51-8394-d0dd9c22c10d",
   "metadata": {},
   "outputs": [],
   "source": [
    "name=input(\"what is your name\")\n",
    "age=input(\"how old are you\")\n",
    "print(f\"hello {name} you are {age} years old\")"
   ]
  }
 ],
 "metadata": {
  "kernelspec": {
   "display_name": "Python 3 (ipykernel)",
   "language": "python",
   "name": "python3"
  },
  "language_info": {
   "codemirror_mode": {
    "name": "ipython",
    "version": 3
   },
   "file_extension": ".py",
   "mimetype": "text/x-python",
   "name": "python",
   "nbconvert_exporter": "python",
   "pygments_lexer": "ipython3",
   "version": "3.12.4"
  }
 },
 "nbformat": 4,
 "nbformat_minor": 5
}
